{
 "cells": [
  {
   "cell_type": "code",
   "execution_count": 9,
   "metadata": {},
   "outputs": [],
   "source": [
    "from osgeo import ogr\n",
    "import os\n",
    "import sys\n",
    "import ogr2osm\n",
    "\n",
    "input_osm = sys.argv[1]\n",
    "mask_geojson = sys.argv[2]\n",
    "output_osm = sys.argv[3]\n",
    "\n",
    "ds = ogr.Open(input_osm)\n",
    "maskDriver = ogr.GetDriverByName('GeoJSON')\n",
    "mask = maskDriver.Open(mask_geojson, 0)\n",
    "maskLayer = mask.GetLayer()\n",
    "\n",
    "outputDriver = ogr.GetDriverByName('KML')\n",
    "fn = \"output.kml\"\n",
    "if os.path.exists(fn):\n",
    "    outputDriver.DeleteDataSource(fn)\n",
    "outDS = outputDriver.CreateDataSource(fn)"
   ]
  },
  {
   "cell_type": "code",
   "execution_count": 10,
   "metadata": {},
   "outputs": [
    {
     "name": "stdout",
     "output_type": "stream",
     "text": [
      "points\n",
      "lines\n",
      "multilinestrings\n",
      "multipolygons\n",
      "other_relations\n"
     ]
    }
   ],
   "source": [
    "layer_num = ds.GetLayerCount()\n",
    "for i in range(layer_num):\n",
    "    inputLayer = ds.GetLayer(i)\n",
    "    name = inputLayer.GetName()\n",
    "    outputLayer = outDS.CreateLayer(name)\n",
    "    inputLayer.Erase(maskLayer, outputLayer)"
   ]
  },
  {
   "cell_type": "code",
   "execution_count": 11,
   "metadata": {},
   "outputs": [],
   "source": [
    "with open('output.kml', 'a') as output:\n",
    "    output.write('</Folder></Document></kml>')"
   ]
  },
  {
   "cell_type": "code",
   "execution_count": 14,
   "metadata": {},
   "outputs": [],
   "source": [
    "translation_object = ogr2osm.TranslationBase()\n",
    "datasource = ogr2osm.OgrDatasource(translation_object)\n",
    "datasource.open_datasource(\"output.kml\")\n",
    "osmdata = ogr2osm.OsmData(translation_object)\n",
    "osmdata.process(datasource)\n",
    "datawriter = ogr2osm.OsmDataWriter(output_osm)\n",
    "osmdata.output(datawriter)\n",
    "os.remove('output.kml')"
   ]
  }
 ],
 "metadata": {
  "kernelspec": {
   "display_name": "Python 3",
   "language": "python",
   "name": "python3"
  },
  "language_info": {
   "codemirror_mode": {
    "name": "ipython",
    "version": 3
   },
   "file_extension": ".py",
   "mimetype": "text/x-python",
   "name": "python",
   "nbconvert_exporter": "python",
   "pygments_lexer": "ipython3",
   "version": "3.8.6rc1"
  }
 },
 "nbformat": 4,
 "nbformat_minor": 4
}
